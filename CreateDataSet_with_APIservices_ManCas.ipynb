{
  "nbformat": 4,
  "nbformat_minor": 0,
  "metadata": {
    "colab": {
      "provenance": [],
      "authorship_tag": "ABX9TyNrvqmPwCB1fUgRYF7I+JaB",
      "include_colab_link": true
    },
    "kernelspec": {
      "name": "python3",
      "display_name": "Python 3"
    },
    "language_info": {
      "name": "python"
    }
  },
  "cells": [
    {
      "cell_type": "markdown",
      "metadata": {
        "id": "view-in-github",
        "colab_type": "text"
      },
      "source": [
        "<a href=\"https://colab.research.google.com/github/manuuC3368/CodeLab_BI/blob/main/CreateDataSet_with_APIservices_ManCas.ipynb\" target=\"_parent\"><img src=\"https://colab.research.google.com/assets/colab-badge.svg\" alt=\"Open In Colab\"/></a>"
      ]
    },
    {
      "cell_type": "code",
      "execution_count": 14,
      "metadata": {
        "colab": {
          "base_uri": "https://localhost:8080/"
        },
        "id": "beW9-mnwFNby",
        "outputId": "03317b7f-a0c1-41ea-97e8-08e4ec229557"
      },
      "outputs": [
        {
          "output_type": "stream",
          "name": "stdout",
          "text": [
            "Requirement already satisfied: faker in /usr/local/lib/python3.10/dist-packages (27.4.0)\n",
            "Requirement already satisfied: python-dateutil>=2.4 in /usr/local/lib/python3.10/dist-packages (from faker) (2.8.2)\n",
            "Requirement already satisfied: six>=1.5 in /usr/local/lib/python3.10/dist-packages (from python-dateutil>=2.4->faker) (1.16.0)\n"
          ]
        }
      ],
      "source": [
        "!pip install faker"
      ]
    },
    {
      "cell_type": "code",
      "source": [
        "import sqlite3\n",
        "import pandas as pd\n",
        "import requests\n",
        "import random\n",
        "import uuid\n",
        "from faker import Faker\n",
        "import numpy as np\n",
        "import shutil\n",
        "from google.colab import drive"
      ],
      "metadata": {
        "id": "UCqjm-xcGitQ"
      },
      "execution_count": 15,
      "outputs": []
    },
    {
      "cell_type": "code",
      "source": [
        "# Montar Google Drive\n",
        "drive.mount('/content/drive')"
      ],
      "metadata": {
        "colab": {
          "base_uri": "https://localhost:8080/"
        },
        "id": "ugTDAfTJGxBB",
        "outputId": "7c53d50e-302d-4c3b-d9c3-8a640f5c6db9"
      },
      "execution_count": 16,
      "outputs": [
        {
          "output_type": "stream",
          "name": "stdout",
          "text": [
            "Drive already mounted at /content/drive; to attempt to forcibly remount, call drive.mount(\"/content/drive\", force_remount=True).\n"
          ]
        }
      ]
    },
    {
      "cell_type": "code",
      "source": [
        "# Inicializar Faker\n",
        "fake = Faker()\n",
        "\n",
        "# Crear la conexión a la base de datos SQLite3\n",
        "conn = sqlite3.connect('financial_data.db')\n",
        "\n",
        "# Función para ejecutar consultas SQL\n",
        "def execute_query(query, conn):\n",
        "    with conn:\n",
        "        conn.execute(query)\n",
        "\n",
        "# Crear las tablas en SQLite3\n",
        "execute_query('''CREATE TABLE IF NOT EXISTS customers (\n",
        "                 customer_id TEXT PRIMARY KEY,\n",
        "                 name TEXT,\n",
        "                 address TEXT,\n",
        "                 phone_number TEXT,\n",
        "                 email TEXT);''', conn)\n",
        "\n",
        "execute_query('''CREATE TABLE IF NOT EXISTS branches (\n",
        "                 branch_id TEXT PRIMARY KEY,\n",
        "                 branch_location TEXT,\n",
        "                 manager_name TEXT,\n",
        "                 contact_number TEXT);''', conn)\n",
        "\n",
        "execute_query('''CREATE TABLE IF NOT EXISTS transaction_types (\n",
        "                 transaction_type TEXT PRIMARY KEY,\n",
        "                 description TEXT);''', conn)\n",
        "\n",
        "execute_query('''CREATE TABLE IF NOT EXISTS transactions (\n",
        "                 transaction_id TEXT PRIMARY KEY,\n",
        "                 customer_id TEXT,\n",
        "                 transaction_date TEXT,\n",
        "                 transaction_amount REAL,\n",
        "                 transaction_location TEXT,\n",
        "                 transaction_type TEXT,\n",
        "                 fraudulent INTEGER,\n",
        "                 branch_id TEXT,\n",
        "                 FOREIGN KEY(customer_id) REFERENCES customers(customer_id),\n",
        "                 FOREIGN KEY(transaction_type) REFERENCES transaction_types(transaction_type),\n",
        "                 FOREIGN KEY(branch_id) REFERENCES branches(branch_id));''', conn)"
      ],
      "metadata": {
        "id": "rTB1ffGtG9_W"
      },
      "execution_count": 17,
      "outputs": []
    },
    {
      "cell_type": "code",
      "source": [
        "# Función para obtener datos de clientes desde randomuser API\n",
        "def get_random_users(num_users=100):\n",
        "    url = f\"https://randomuser.me/api/?results={num_users}&nat=us\"\n",
        "    response = requests.get(url)\n",
        "    if response.status_code == 200:\n",
        "        users = response.json()['results']\n",
        "        return users\n",
        "    else:\n",
        "        print(\"Error fetching data from randomuser.me\")\n",
        "        return []\n",
        "\n",
        "# Crear la tabla de clientes y guardarla en SQLite3\n",
        "def create_customers_table(num_customers=100):\n",
        "    users = get_random_users(num_customers)\n",
        "    customers_data = {\n",
        "        \"customer_id\": [str(uuid.uuid4()) for _ in range(num_customers)],\n",
        "        \"name\": [f\"{user['name']['first']} {user['name']['last']}\" for user in users],\n",
        "        \"address\": [f\"{user['location']['street']['number']} {user['location']['street']['name']}, {user['location']['city']}, {user['location']['state']}, {user['location']['postcode']}\" for user in users],\n",
        "        \"phone_number\": [user['phone'] for user in users],\n",
        "        \"email\": [user['email'] for user in users]\n",
        "    }\n",
        "    customers_df = pd.DataFrame(customers_data)\n",
        "    customers_df.to_sql('customers', conn, if_exists='replace', index=False)\n",
        "    return customers_df\n",
        "\n",
        "# Crear la tabla de clientes\n",
        "customers_df = create_customers_table(num_customers=100)"
      ],
      "metadata": {
        "id": "QeKFxutcHATm"
      },
      "execution_count": 23,
      "outputs": []
    },
    {
      "cell_type": "code",
      "source": [
        "# Crear la tabla de sucursales y guardarla en SQLite3\n",
        "def create_branches_table(num_branches=10):\n",
        "    branch_data = {\n",
        "        \"branch_id\": [str(uuid.uuid4()) for _ in range(num_branches)],\n",
        "        \"branch_location\": [fake.city() for _ in range(num_branches)],\n",
        "        \"manager_name\": [fake.name() for _ in range(num_branches)],\n",
        "        \"contact_number\": [fake.phone_number() for _ in range(num_branches)]\n",
        "    }\n",
        "    branches_df = pd.DataFrame(branch_data)\n",
        "    branches_df.to_sql('branches', conn, if_exists='replace', index=False)\n",
        "    return branches_df\n",
        "\n",
        "# Crear la tabla de sucursales\n",
        "branches_df = create_branches_table(num_branches=10)"
      ],
      "metadata": {
        "id": "iW72YTW5IYY1"
      },
      "execution_count": 24,
      "outputs": []
    },
    {
      "cell_type": "code",
      "source": [
        "# Crear la tabla de tipos de transacciones y guardarla en SQLite3\n",
        "def create_transaction_types_table():\n",
        "    transaction_types_data = {\n",
        "        \"transaction_type\": [\"online\", \"in-store\"],\n",
        "        \"description\": [\"Transaction made online via the internet\",\n",
        "                        \"Transaction made at a physical store location\"]\n",
        "    }\n",
        "    transaction_types_df = pd.DataFrame(transaction_types_data)\n",
        "    transaction_types_df.to_sql('transaction_types', conn, if_exists='replace', index=False)\n",
        "    return transaction_types_df\n",
        "\n",
        "# Crear la tabla de tipos de transacciones\n",
        "transaction_types_df = create_transaction_types_table()"
      ],
      "metadata": {
        "id": "vms0wdvfIdy3"
      },
      "execution_count": 20,
      "outputs": []
    },
    {
      "cell_type": "code",
      "source": [
        "# Crear la tabla de transacciones y guardarla en SQLite3\n",
        "def create_transactions_table(customers_df, branches_df, num_transactions=1000):\n",
        "    transaction_data = {\n",
        "        \"transaction_id\": [str(uuid.uuid4()) for _ in range(num_transactions)],\n",
        "        \"customer_id\": [random.choice(customers_df['customer_id']) for _ in range(num_transactions)],\n",
        "        \"transaction_date\": [fake.date_time_this_year().isoformat() for _ in range(num_transactions)],\n",
        "        \"transaction_amount\": [round(random.uniform(10.0, 1000.0), 2) for _ in range(num_transactions)],\n",
        "        \"transaction_location\": [fake.city() for _ in range(num_transactions)],\n",
        "        \"transaction_type\": [random.choice([\"online\", \"in-store\"]) for _ in range(num_transactions)],\n",
        "        \"fraudulent\": [0] * num_transactions\n",
        "    }\n",
        "    transactions_df = pd.DataFrame(transaction_data)\n",
        "\n",
        "    # Introducir transacciones fraudulentas\n",
        "    n_fraud = 10  # Número de transacciones fraudulentas\n",
        "    fraud_indices = np.random.choice(transactions_df.index, n_fraud, replace=False)\n",
        "    transactions_df.loc[fraud_indices, 'fraudulent'] = 1\n",
        "    transactions_df.loc[fraud_indices, 'transaction_amount'] = [round(random.uniform(1000.0, 5000.0), 2) for _ in range(n_fraud)]\n",
        "    transactions_df.loc[fraud_indices, 'transaction_type'] = \"online\"\n",
        "\n",
        "    # Asignar branch_id solo para transacciones \"in-store\"\n",
        "    in_store_indices = transactions_df[transactions_df['transaction_type'] == 'in-store'].index\n",
        "    transactions_df.loc[in_store_indices, 'branch_id'] = np.random.choice(branches_df['branch_id'], size=len(in_store_indices))\n",
        "\n",
        "    # Para transacciones online, branch_id se puede establecer en None\n",
        "    transactions_df['branch_id'].fillna('None', inplace=True)\n",
        "\n",
        "    transactions_df.to_sql('transactions', conn, if_exists='replace', index=False)\n",
        "    return transactions_df\n",
        "\n",
        "# Crear la tabla de transacciones\n",
        "transactions_df = create_transactions_table(customers_df, branches_df, num_transactions=500)"
      ],
      "metadata": {
        "id": "q000E3G9Ijx4"
      },
      "execution_count": 21,
      "outputs": []
    },
    {
      "cell_type": "code",
      "source": [
        "# Verificar la creación de tablas en SQLite3\n",
        "print(\"Tablas en la base de datos SQLite:\")\n",
        "query = \"SELECT name FROM sqlite_master WHERE type='table';\"\n",
        "tables = pd.read_sql(query, conn)\n",
        "print(tables)\n",
        "\n",
        "# Cerrar la conexión\n",
        "conn.close()"
      ],
      "metadata": {
        "colab": {
          "base_uri": "https://localhost:8080/"
        },
        "id": "fkFNspIBIly5",
        "outputId": "31b340f3-b688-4109-90fc-ef4b8de1482c"
      },
      "execution_count": 9,
      "outputs": [
        {
          "output_type": "stream",
          "name": "stdout",
          "text": [
            "Tablas en la base de datos SQLite:\n",
            "                name\n",
            "0          customers\n",
            "1           branches\n",
            "2  transaction_types\n",
            "3       transactions\n"
          ]
        }
      ]
    },
    {
      "cell_type": "code",
      "source": [],
      "metadata": {
        "id": "Rc86mRRHP5vK"
      },
      "execution_count": null,
      "outputs": []
    }
  ]
}