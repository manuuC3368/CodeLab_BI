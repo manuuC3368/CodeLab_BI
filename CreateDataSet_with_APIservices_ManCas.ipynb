{
  "nbformat": 4,
  "nbformat_minor": 0,
  "metadata": {
    "colab": {
      "provenance": [],
      "authorship_tag": "ABX9TyMeaV8xO69N8GbOtJ90dP+4",
      "include_colab_link": true
    },
    "kernelspec": {
      "name": "python3",
      "display_name": "Python 3"
    },
    "language_info": {
      "name": "python"
    }
  },
  "cells": [
    {
      "cell_type": "markdown",
      "metadata": {
        "id": "view-in-github",
        "colab_type": "text"
      },
      "source": [
        "<a href=\"https://colab.research.google.com/github/manuuC3368/CodeLab_BI/blob/main/CreateDataSet_with_APIservices_ManCas.ipynb\" target=\"_parent\"><img src=\"https://colab.research.google.com/assets/colab-badge.svg\" alt=\"Open In Colab\"/></a>"
      ]
    },
    {
      "cell_type": "code",
      "execution_count": 1,
      "metadata": {
        "colab": {
          "base_uri": "https://localhost:8080/"
        },
        "id": "beW9-mnwFNby",
        "outputId": "fa1bab9b-ccd1-499e-db8c-26a5286acc5e"
      },
      "outputs": [
        {
          "output_type": "stream",
          "name": "stdout",
          "text": [
            "Collecting faker\n",
            "  Downloading Faker-27.4.0-py3-none-any.whl.metadata (15 kB)\n",
            "Requirement already satisfied: python-dateutil>=2.4 in /usr/local/lib/python3.10/dist-packages (from faker) (2.8.2)\n",
            "Requirement already satisfied: six>=1.5 in /usr/local/lib/python3.10/dist-packages (from python-dateutil>=2.4->faker) (1.16.0)\n",
            "Downloading Faker-27.4.0-py3-none-any.whl (1.8 MB)\n",
            "\u001b[?25l   \u001b[90m━━━━━━━━━━━━━━━━━━━━━━━━━━━━━━━━━━━━━━━━\u001b[0m \u001b[32m0.0/1.8 MB\u001b[0m \u001b[31m?\u001b[0m eta \u001b[36m-:--:--\u001b[0m\r\u001b[2K   \u001b[91m━━━━━━━━━━━━━━━━━━━━━━━━━━━━━━━━━━━━━━━\u001b[0m\u001b[91m╸\u001b[0m \u001b[32m1.8/1.8 MB\u001b[0m \u001b[31m75.1 MB/s\u001b[0m eta \u001b[36m0:00:01\u001b[0m\r\u001b[2K   \u001b[90m━━━━━━━━━━━━━━━━━━━━━━━━━━━━━━━━━━━━━━━━\u001b[0m \u001b[32m1.8/1.8 MB\u001b[0m \u001b[31m36.4 MB/s\u001b[0m eta \u001b[36m0:00:00\u001b[0m\n",
            "\u001b[?25hInstalling collected packages: faker\n",
            "Successfully installed faker-27.4.0\n"
          ]
        }
      ],
      "source": [
        "!pip install faker"
      ]
    },
    {
      "cell_type": "code",
      "source": [
        "import sqlite3\n",
        "import pandas as pd\n",
        "import requests\n",
        "import random\n",
        "import uuid\n",
        "from faker import Faker\n",
        "import numpy as np\n",
        "import shutil\n",
        "from google.colab import drive"
      ],
      "metadata": {
        "id": "UCqjm-xcGitQ"
      },
      "execution_count": 2,
      "outputs": []
    },
    {
      "cell_type": "code",
      "source": [
        "# Montar Google Drive\n",
        "drive.mount('/content/drive')"
      ],
      "metadata": {
        "colab": {
          "base_uri": "https://localhost:8080/"
        },
        "id": "ugTDAfTJGxBB",
        "outputId": "a1f43465-f0e2-4732-9b5c-fe355fea5591"
      },
      "execution_count": 3,
      "outputs": [
        {
          "output_type": "stream",
          "name": "stdout",
          "text": [
            "Mounted at /content/drive\n"
          ]
        }
      ]
    },
    {
      "cell_type": "code",
      "source": [
        "# Inicializar Faker\n",
        "fake = Faker()\n",
        "\n",
        "# Crear la conexión a la base de datos SQLite3\n",
        "conn = sqlite3.connect('financial_data.db')\n",
        "\n",
        "# Función para ejecutar consultas SQL\n",
        "def execute_query(query, conn):\n",
        "    with conn:\n",
        "        conn.execute(query)\n",
        "\n",
        "# Crear las tablas en SQLite3\n",
        "execute_query('''CREATE TABLE IF NOT EXISTS customers (\n",
        "                 customer_id TEXT PRIMARY KEY,\n",
        "                 name TEXT,\n",
        "                 address TEXT,\n",
        "                 phone_number TEXT,\n",
        "                 email TEXT);''', conn)\n",
        "\n",
        "execute_query('''CREATE TABLE IF NOT EXISTS branches (\n",
        "                 branch_id TEXT PRIMARY KEY,\n",
        "                 branch_location TEXT,\n",
        "                 manager_name TEXT,\n",
        "                 contact_number TEXT);''', conn)\n",
        "\n",
        "execute_query('''CREATE TABLE IF NOT EXISTS transaction_types (\n",
        "                 transaction_type TEXT PRIMARY KEY,\n",
        "                 description TEXT);''', conn)\n",
        "\n",
        "execute_query('''CREATE TABLE IF NOT EXISTS transactions (\n",
        "                 transaction_id TEXT PRIMARY KEY,\n",
        "                 customer_id TEXT,\n",
        "                 transaction_date TEXT,\n",
        "                 transaction_amount REAL,\n",
        "                 transaction_location TEXT,\n",
        "                 transaction_type TEXT,\n",
        "                 fraudulent INTEGER,\n",
        "                 branch_id TEXT,\n",
        "                 FOREIGN KEY(customer_id) REFERENCES customers(customer_id),\n",
        "                 FOREIGN KEY(transaction_type) REFERENCES transaction_types(transaction_type),\n",
        "                 FOREIGN KEY(branch_id) REFERENCES branches(branch_id));''', conn)"
      ],
      "metadata": {
        "id": "rTB1ffGtG9_W"
      },
      "execution_count": 4,
      "outputs": []
    },
    {
      "cell_type": "code",
      "source": [
        "# Función para obtener datos de clientes desde randomuser API\n",
        "def get_random_users(num_users=10):\n",
        "    url = f\"https://randomuser.me/api/?results={num_users}&nat=us\"\n",
        "    response = requests.get(url)\n",
        "    if response.status_code == 200:\n",
        "        users = response.json()['results']\n",
        "        return users\n",
        "    else:\n",
        "        print(\"Error fetching data from randomuser.me\")\n",
        "        return []\n",
        "\n",
        "# Crear la tabla de clientes y guardarla en SQLite3\n",
        "def create_customers_table(num_customers=10):\n",
        "    users = get_random_users(num_customers)\n",
        "    customers_data = {\n",
        "        \"customer_id\": [str(uuid.uuid4()) for _ in range(num_customers)],\n",
        "        \"name\": [f\"{user['name']['first']} {user['name']['last']}\" for user in users],\n",
        "        \"address\": [f\"{user['location']['street']['number']} {user['location']['street']['name']}, {user['location']['city']}, {user['location']['state']}, {user['location']['postcode']}\" for user in users],\n",
        "        \"phone_number\": [user['phone'] for user in users],\n",
        "        \"email\": [user['email'] for user in users]\n",
        "    }\n",
        "    customers_df = pd.DataFrame(customers_data)\n",
        "    customers_df.to_sql('customers', conn, if_exists='replace', index=False)\n",
        "    return customers_df\n",
        "\n",
        "# Crear la tabla de clientes\n",
        "customers_df = create_customers_table(num_customers=100)"
      ],
      "metadata": {
        "id": "QeKFxutcHATm"
      },
      "execution_count": 5,
      "outputs": []
    }
  ]
}